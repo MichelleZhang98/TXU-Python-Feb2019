{
 "cells": [
  {
   "cell_type": "markdown",
   "metadata": {},
   "source": [
    "# Dictionaries"
   ]
  },
  {
   "cell_type": "markdown",
   "metadata": {},
   "source": [
    "## Defining Dictionaries\n",
    "\n",
    "Let's create a dictionary using bracket notation."
   ]
  },
  {
   "cell_type": "code",
   "execution_count": 24,
   "metadata": {},
   "outputs": [
    {
     "data": {
      "text/plain": [
       "{'cat': 15, 'dog': 25, 'elephant': 2000, 'giraffe': 1000}"
      ]
     },
     "execution_count": 24,
     "metadata": {},
     "output_type": "execute_result"
    }
   ],
   "source": [
    "mydict = {'cat':15,'dog':25,'elephant':2000,'giraffe':1000}\n",
    "mydict"
   ]
  },
  {
   "cell_type": "markdown",
   "metadata": {},
   "source": [
    "We can also create the same dictionary by initializing an empty dictionary, then inserting values in it."
   ]
  },
  {
   "cell_type": "code",
   "execution_count": 35,
   "metadata": {},
   "outputs": [
    {
     "data": {
      "text/plain": [
       "{'cat': 15, 'dog': 25, 'elephant': 2000, 'giraffe': 1000}"
      ]
     },
     "execution_count": 35,
     "metadata": {},
     "output_type": "execute_result"
    }
   ],
   "source": [
    "mydict = {}\n",
    "# or, mydict = dict()\n",
    "mydict['cat']=15\n",
    "mydict['dog']=25\n",
    "mydict['elephant']=2000\n",
    "mydict['giraffe']=1000\n",
    "mydict"
   ]
  },
  {
   "cell_type": "markdown",
   "metadata": {},
   "source": [
    "We can see that the values are all integers (in this case), and the keys are strings. Note that the values can be any kind of object, but the keys have to be a hashable (orderable) type. Strings are common though."
   ]
  },
  {
   "cell_type": "markdown",
   "metadata": {},
   "source": [
    "## Working with Dictionaries\n",
    "### dict.keys()"
   ]
  },
  {
   "cell_type": "code",
   "execution_count": 13,
   "metadata": {},
   "outputs": [
    {
     "name": "stdout",
     "output_type": "stream",
     "text": [
      "dict_keys(['cat', 'dog', 'elephant', 'giraffe'])\n",
      "<class 'dict_keys'>\n",
      "cat\n",
      "<class 'str'>\n",
      "dog\n",
      "<class 'str'>\n",
      "elephant\n",
      "<class 'str'>\n",
      "giraffe\n",
      "<class 'str'>\n"
     ]
    }
   ],
   "source": [
    "mydict_keys = mydict.keys()\n",
    "print(mydict_keys)\n",
    "print(type(mydict_keys))\n",
    "\n",
    "#let's convert to a list so we can index it for this example\n",
    "mydict_keys = list(mydict_keys)\n",
    "\n",
    "print(mydict_keys[0])\n",
    "print(type(mydict_keys[0]))\n",
    "print(mydict_keys[1])\n",
    "print(type(mydict_keys[1]))\n",
    "print(mydict_keys[2])\n",
    "print(type(mydict_keys[2]))\n",
    "print(mydict_keys[3])\n",
    "print(type(mydict_keys[3]))"
   ]
  },
  {
   "cell_type": "markdown",
   "metadata": {},
   "source": [
    "### dict.values()"
   ]
  },
  {
   "cell_type": "code",
   "execution_count": 12,
   "metadata": {},
   "outputs": [
    {
     "name": "stdout",
     "output_type": "stream",
     "text": [
      "dict_values([15, 25, 2000, 1000])\n",
      "<class 'dict_values'>\n",
      "15\n",
      "<class 'int'>\n",
      "25\n",
      "<class 'int'>\n",
      "2000\n",
      "<class 'int'>\n",
      "1000\n",
      "<class 'int'>\n"
     ]
    }
   ],
   "source": [
    "mydict_values = mydict.values()\n",
    "print(mydict_values)\n",
    "print(type(mydict_values))\n",
    "\n",
    "#let's convert to a list so we can index it for this example\n",
    "mydict_values = list(mydict_values)\n",
    "\n",
    "print(mydict_values[0])\n",
    "print(type(mydict_values[0]))\n",
    "print(mydict_values[1])\n",
    "print(type(mydict_values[1]))\n",
    "print(mydict_values[2])\n",
    "print(type(mydict_values[2]))\n",
    "print(mydict_values[3])\n",
    "print(type(mydict_values[3]))"
   ]
  },
  {
   "cell_type": "markdown",
   "metadata": {},
   "source": [
    "### dict.items()"
   ]
  },
  {
   "cell_type": "code",
   "execution_count": 14,
   "metadata": {},
   "outputs": [
    {
     "name": "stdout",
     "output_type": "stream",
     "text": [
      "dict_items([('cat', 15), ('dog', 25), ('elephant', 2000), ('giraffe', 1000)])\n",
      "<class 'dict_items'>\n",
      "('cat', 15)\n",
      "<class 'tuple'>\n",
      "('dog', 25)\n",
      "<class 'tuple'>\n",
      "('elephant', 2000)\n",
      "<class 'tuple'>\n",
      "('giraffe', 1000)\n",
      "<class 'tuple'>\n"
     ]
    }
   ],
   "source": [
    "mydict_items = mydict.items()\n",
    "print(mydict_items)\n",
    "print(type(mydict_items))\n",
    "\n",
    "#let's convert to a list so we can index it for this example\n",
    "mydict_items = list(mydict_items)\n",
    "\n",
    "print(mydict_items[0])\n",
    "print(type(mydict_items[0]))\n",
    "print(mydict_items[1])\n",
    "print(type(mydict_items[1]))\n",
    "print(mydict_items[2])\n",
    "print(type(mydict_items[2]))\n",
    "print(mydict_items[3])\n",
    "print(type(mydict_items[3]))"
   ]
  },
  {
   "cell_type": "code",
   "execution_count": 17,
   "metadata": {},
   "outputs": [
    {
     "name": "stdout",
     "output_type": "stream",
     "text": [
      "\n",
      "cat\n",
      "<class 'str'>\n",
      "15\n",
      "<class 'int'>\n",
      "\n",
      "dog\n",
      "<class 'str'>\n",
      "25\n",
      "<class 'int'>\n"
     ]
    }
   ],
   "source": [
    "mydict_items = mydict.items()\n",
    "#print(mydict_items)\n",
    "#print(type(mydict_items))\n",
    "\n",
    "#let's convert to a list so we can index it for this example\n",
    "mydict_items = list(mydict_items)\n",
    "\n",
    "print() #print an empy line for spacing\n",
    "\n",
    "#we can access the objects in the tuple by indexing\n",
    "firstitem = mydict_items[0]\n",
    "animal = firstitem[0]\n",
    "weight = firstitem[1]\n",
    "\n",
    "print(animal)\n",
    "print(type(animal))\n",
    "print(weight)\n",
    "print(type(weight))\n",
    "\n",
    "print() #print an empy line for spacing\n",
    "\n",
    "\n",
    "seconditem = mydict_items[1]\n",
    "#we can also use unpacking to assign the values within the tuple \n",
    "#(if we know the number of values to expect)\n",
    "animal,weight = seconditem\n",
    "\n",
    "print(animal)\n",
    "print(type(animal))\n",
    "print(weight)\n",
    "print(type(weight))"
   ]
  },
  {
   "cell_type": "markdown",
   "metadata": {},
   "source": [
    "### Building Dicts from Tuples and Lists\n",
    "One more way to build a dictionary is from a series (i.e., list or tuple) of 2-element series objects (i.e., list/tuple with 2 elements). In this case, we'll use a list of tuples. Each tuple will contain the key,value pair."
   ]
  },
  {
   "cell_type": "code",
   "execution_count": 34,
   "metadata": {},
   "outputs": [
    {
     "data": {
      "text/plain": [
       "{'cat': 15, 'dog': 25, 'elephant': 2000, 'giraffe': 1000}"
      ]
     },
     "execution_count": 34,
     "metadata": {},
     "output_type": "execute_result"
    }
   ],
   "source": [
    "dict(\n",
    "    [\n",
    "        ('cat',15),\n",
    "        ('dog',25),\n",
    "        ('elephant',2000),\n",
    "        ('giraffe',1000)\n",
    "    ]\n",
    "    )"
   ]
  },
  {
   "cell_type": "markdown",
   "metadata": {},
   "source": [
    "## Looking Ahead"
   ]
  },
  {
   "cell_type": "markdown",
   "metadata": {},
   "source": [
    "### Iterating through keys/values/items\n",
    "Note that we had to convert the results from .keys(), .values(), and .items() to lists to be able to index them. In practice, we would just iterate through the objects in a loop. We'll cover loops in a later section, but the example below shows how you would typically use these dict methods."
   ]
  },
  {
   "cell_type": "code",
   "execution_count": 23,
   "metadata": {},
   "outputs": [
    {
     "name": "stdout",
     "output_type": "stream",
     "text": [
      "The cat weights 15lbs.\n",
      "The dog weights 25lbs.\n",
      "The elephant weights 2000lbs.\n",
      "The giraffe weights 1000lbs.\n"
     ]
    }
   ],
   "source": [
    "for animal,weight in mydict.items():    \n",
    "    print(\"The {} weights {}lbs.\".format(animal,weight))"
   ]
  },
  {
   "cell_type": "markdown",
   "metadata": {},
   "source": [
    "### Zipping Lists into Dicts"
   ]
  },
  {
   "cell_type": "markdown",
   "metadata": {},
   "source": [
    "More commonly (than creating a series of tuples by hand), two lists can be 'zipped' together. The zip() function will create a list of tuples, which we saw above can be easily converted into a dictionary. This way, we can easily convert a list/series of keys with a corresponding list/series of values, and match them up to create a dictionary. \n",
    "\n",
    "(We'll talk more about the zip() function in the section on built-ins.)"
   ]
  },
  {
   "cell_type": "code",
   "execution_count": 29,
   "metadata": {},
   "outputs": [
    {
     "data": {
      "text/plain": [
       "{'cat': 15, 'dog': 25, 'elephant': 2000, 'giraffe': 1000}"
      ]
     },
     "execution_count": 29,
     "metadata": {},
     "output_type": "execute_result"
    }
   ],
   "source": [
    "animals = ['cat','dog','elephant','giraffe']\n",
    "weights = [15,25,2000,1000]\n",
    "dict(zip(animals,weights))"
   ]
  },
  {
   "cell_type": "code",
   "execution_count": null,
   "metadata": {},
   "outputs": [],
   "source": []
  }
 ],
 "metadata": {
  "kernelspec": {
   "display_name": "Python 3",
   "language": "python",
   "name": "python3"
  },
  "language_info": {
   "codemirror_mode": {
    "name": "ipython",
    "version": 3
   },
   "file_extension": ".py",
   "mimetype": "text/x-python",
   "name": "python",
   "nbconvert_exporter": "python",
   "pygments_lexer": "ipython3",
   "version": "3.7.1"
  }
 },
 "nbformat": 4,
 "nbformat_minor": 2
}

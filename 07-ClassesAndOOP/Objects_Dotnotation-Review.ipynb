{
 "cells": [
  {
   "cell_type": "markdown",
   "metadata": {},
   "source": [
    "# Objects & Dot Notation\n",
    "## (Review)"
   ]
  },
  {
   "cell_type": "code",
   "execution_count": 1,
   "metadata": {},
   "outputs": [],
   "source": [
    "import deckofcards"
   ]
  },
  {
   "cell_type": "markdown",
   "metadata": {},
   "source": [
    "## Dot Notation with Libraries"
   ]
  },
  {
   "cell_type": "markdown",
   "metadata": {},
   "source": [
    "We use dot notation to reference object definitions inside of the library. For example, there is a definition for the object Deck() inside of deckofcards:"
   ]
  },
  {
   "cell_type": "code",
   "execution_count": 2,
   "metadata": {},
   "outputs": [
    {
     "data": {
      "text/plain": [
       "<deckofcards.Deck at 0x103e27198>"
      ]
     },
     "execution_count": 2,
     "metadata": {},
     "output_type": "execute_result"
    }
   ],
   "source": [
    "mydeck = deckofcards.Deck()\n",
    "#this creates an instance of Deck()\n",
    "mydeck"
   ]
  },
  {
   "cell_type": "markdown",
   "metadata": {},
   "source": [
    "To access methods of our newly created Deck() object--called mydeck--we use dot notation. This is just like we accessed the string.split() and list.append() methods:"
   ]
  },
  {
   "cell_type": "code",
   "execution_count": 3,
   "metadata": {},
   "outputs": [],
   "source": [
    "mydeck.loadnewdeck()\n",
    "mydeck.shuffledeck()"
   ]
  },
  {
   "cell_type": "markdown",
   "metadata": {},
   "source": [
    "### Dot Notation with Objects"
   ]
  },
  {
   "cell_type": "markdown",
   "metadata": {},
   "source": [
    "To access an attribute of the object, we can use dot notation as well. Remember, methods, like functions, always end with parantheses. Attributes are just referenced directly:"
   ]
  },
  {
   "cell_type": "code",
   "execution_count": 8,
   "metadata": {},
   "outputs": [
    {
     "name": "stdout",
     "output_type": "stream",
     "text": [
      "[9♦, J♦, 8♣, Q♠, 10♦, 7♣, 2♥, 9♠, 10♠, Q♦, J♣, 6♣, J♥, J♠, 10♥, 5♦, Q♥, 4♦, 5♣, 3♥, 9♥, Q♣, K♠, K♣, 10♣, 8♠, 5♥, 6♠, A♥, 4♥, A♦, 7♠, 9♣, K♥, 6♥, 4♠, 2♦, 4♣, 3♣, 2♠, 7♥, 2♣, 8♦, 7♦, 8♥, 5♠, A♠, K♦, 6♦, A♣, 3♠, 3♦]\n",
      "<class 'deckofcards.Deck'>\n",
      "<class 'list'>\n"
     ]
    }
   ],
   "source": [
    "print(mydeck.deck)\n",
    "print(type(mydeck))\n",
    "print(type(mydeck.deck))"
   ]
  },
  {
   "cell_type": "markdown",
   "metadata": {},
   "source": [
    "### Object Attributes"
   ]
  },
  {
   "cell_type": "markdown",
   "metadata": {},
   "source": [
    "The .deck attribute is a list that holds all the cards that are in the deck. This means we can use indexing to reference one of the objects. Let's take the 3rd one in the list. And, let's take a look at what these card objects look like:"
   ]
  },
  {
   "cell_type": "code",
   "execution_count": 5,
   "metadata": {},
   "outputs": [
    {
     "data": {
      "text/plain": [
       "4♣"
      ]
     },
     "execution_count": 5,
     "metadata": {},
     "output_type": "execute_result"
    }
   ],
   "source": [
    "mydeck.deck[2]"
   ]
  },
  {
   "cell_type": "code",
   "execution_count": 7,
   "metadata": {},
   "outputs": [
    {
     "data": {
      "text/plain": [
       "'Club'"
      ]
     },
     "execution_count": 7,
     "metadata": {},
     "output_type": "execute_result"
    }
   ],
   "source": [
    "mydeck.deck[2].suit"
   ]
  },
  {
   "cell_type": "code",
   "execution_count": 8,
   "metadata": {},
   "outputs": [
    {
     "data": {
      "text/plain": [
       "'6'"
      ]
     },
     "execution_count": 8,
     "metadata": {},
     "output_type": "execute_result"
    }
   ],
   "source": [
    "mydeck.deck[0].value"
   ]
  },
  {
   "cell_type": "code",
   "execution_count": 9,
   "metadata": {},
   "outputs": [
    {
     "data": {
      "text/plain": [
       "deckofcards.Card"
      ]
     },
     "execution_count": 9,
     "metadata": {},
     "output_type": "execute_result"
    }
   ],
   "source": [
    "type(mydeck.deck[0])"
   ]
  },
  {
   "cell_type": "markdown",
   "metadata": {},
   "source": [
    ".suit and .value are both attributes. How can we tell? There are no parentheses, like in mydeck.shuffledeck()\n",
    "\n",
    "Let's take a look at the Duck() object next. We can access this using dot notation. It's part of the ducksoccer library:"
   ]
  }
 ],
 "metadata": {
  "kernelspec": {
   "display_name": "Python 3",
   "language": "python",
   "name": "python3"
  },
  "language_info": {
   "codemirror_mode": {
    "name": "ipython",
    "version": 3
   },
   "file_extension": ".py",
   "mimetype": "text/x-python",
   "name": "python",
   "nbconvert_exporter": "python",
   "pygments_lexer": "ipython3",
   "version": "3.7.1"
  }
 },
 "nbformat": 4,
 "nbformat_minor": 2
}

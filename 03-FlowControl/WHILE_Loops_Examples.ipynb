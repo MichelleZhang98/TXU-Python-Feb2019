{
 "cells": [
  {
   "cell_type": "markdown",
   "metadata": {},
   "source": [
    "# WHILE Loops\n",
    "\n",
    "Let's start by looking back at IF statements"
   ]
  },
  {
   "cell_type": "code",
   "execution_count": 15,
   "metadata": {},
   "outputs": [],
   "source": [
    "x = 0\n"
   ]
  },
  {
   "cell_type": "code",
   "execution_count": 5,
   "metadata": {},
   "outputs": [
    {
     "name": "stdout",
     "output_type": "stream",
     "text": [
      "x is less than 10, it is 0\n"
     ]
    }
   ],
   "source": [
    "if x < 10:\n",
    "    print(\"x is less than 10, it is \"+str(x))"
   ]
  },
  {
   "cell_type": "markdown",
   "metadata": {},
   "source": [
    "A WHILE loop has a similar structure as an IF statement, except that it repeats once it gets to the end."
   ]
  },
  {
   "cell_type": "code",
   "execution_count": 3,
   "metadata": {},
   "outputs": [
    {
     "name": "stdout",
     "output_type": "stream",
     "text": [
      "x is  0\n",
      "x is  1\n",
      "x is  2\n",
      "x is  3\n",
      "x is  4\n",
      "x is  5\n",
      "x is  6\n",
      "x is  7\n",
      "x is  8\n",
      "x is  9\n"
     ]
    }
   ],
   "source": [
    "x = 0\n",
    "while x < 10:\n",
    "    print(\"x is  \"+str(x))\n",
    "    x += 1"
   ]
  },
  {
   "cell_type": "markdown",
   "metadata": {},
   "source": [
    "The print() at the end will show us the value of 'x' right before the WHILE loop repeats."
   ]
  },
  {
   "cell_type": "code",
   "execution_count": 4,
   "metadata": {},
   "outputs": [
    {
     "name": "stdout",
     "output_type": "stream",
     "text": [
      "x is  1\n",
      "x is  2\n",
      "x is  3\n",
      "x is  4\n",
      "x is  5\n",
      "x is  6\n",
      "x is  7\n",
      "x is  8\n",
      "x is  9\n",
      "x is  10\n"
     ]
    }
   ],
   "source": [
    "x = 0\n",
    "while x < 10:\n",
    "    x += 1\n",
    "    print(\"x is  \"+str(x))\n",
    "\n"
   ]
  },
  {
   "cell_type": "markdown",
   "metadata": {},
   "source": [
    "We can use a BREAK to break out of the loop. In this case, we'll create an infinite loop, and us an IF-BREAK to terminate the loop, instead of checking the condition at the top of the loop (since True will always evaluate to True)."
   ]
  },
  {
   "cell_type": "code",
   "execution_count": 14,
   "metadata": {},
   "outputs": [
    {
     "name": "stdout",
     "output_type": "stream",
     "text": [
      "x is  1\n",
      "x is  2\n",
      "x is  3\n",
      "x is  4\n",
      "x is  5\n",
      "x is  6\n",
      "x is  7\n",
      "x is  8\n",
      "x is  9\n",
      "x is  10\n"
     ]
    }
   ],
   "source": [
    "x = 0\n",
    "while True:\n",
    "    x += 1\n",
    "    if x >10:\n",
    "        break\n",
    "    print(\"x is  \"+str(x))"
   ]
  },
  {
   "cell_type": "markdown",
   "metadata": {},
   "source": [
    "If we add in a counter (i), we can use a WHILE loop to iterate through a list."
   ]
  },
  {
   "cell_type": "code",
   "execution_count": 6,
   "metadata": {},
   "outputs": [
    {
     "name": "stdout",
     "output_type": "stream",
     "text": [
      "cat found in the barn\n",
      "dog found in the barn\n",
      "elephant found in the barn\n",
      "giraffe found in the barn\n"
     ]
    }
   ],
   "source": [
    "barn = ['cat','dog','elephant','giraffe']\n",
    "i=0\n",
    "# i is a counter that will help us iterate through the list\n",
    "# when i gets to the end of the list, the loop will stop\n",
    "while i < len(barn):\n",
    "    print(barn[i] + \" found in the barn\")\n",
    "    i += 1\n",
    "    #increment counter\n"
   ]
  },
  {
   "cell_type": "markdown",
   "metadata": {},
   "source": [
    "Since our stop condition depends on the length of the list, our code is dynamic. We can add extra items to the list without changing the code."
   ]
  },
  {
   "cell_type": "code",
   "execution_count": 15,
   "metadata": {},
   "outputs": [
    {
     "name": "stdout",
     "output_type": "stream",
     "text": [
      "cat found in the barn\n",
      "dog found in the barn\n",
      "elephant found in the barn\n",
      "giraffe found in the barn\n",
      "pig found in the barn\n",
      "\n",
      "\n",
      "\n"
     ]
    }
   ],
   "source": [
    "# Simple while loop\n",
    "barn = ['cat','dog','elephant','giraffe','pig']\n",
    "i=0\n",
    "# i is a counter that will help us iterate through the list\n",
    "# when i gets to the end of the list, the loop will stop\n",
    "while i < len(barn):\n",
    "    print(barn[i] + \" found in the barn\")\n",
    "    i += 1\n",
    "    #increment counter\n",
    "\n",
    "print(\"\\n\\n\")\n",
    "# print out some white space\n"
   ]
  },
  {
   "cell_type": "markdown",
   "metadata": {},
   "source": [
    "We can combine this with the IF statements to do something only on a certain item in the list."
   ]
  },
  {
   "cell_type": "code",
   "execution_count": 21,
   "metadata": {},
   "outputs": [
    {
     "name": "stdout",
     "output_type": "stream",
     "text": [
      "cat found in the barn\n",
      "dog found in the barn\n",
      "elephant found in the barn\n",
      "--->\t\tThat's a big elephant!\n",
      "giraffe found in the barn\n",
      "--->\t\tThat's a big giraffe!\n",
      "pig found in the barn\n",
      "\n",
      "\n",
      "\n"
     ]
    }
   ],
   "source": [
    "# While loop with if statement\n",
    "barn = ['cat','dog','elephant','giraffe','pig']\n",
    "i=0\n",
    "# i is a counter that will help us iterate through the list\n",
    "# when i gets to the end of the list, the loop will stop\n",
    "while i < len(barn):\n",
    "    print(barn[i] + \" found in the barn\")\n",
    "    if len(barn[i]) > 3:\n",
    "        print(\"--->\\t\\tThat's a big \"+barn[i]+\"!\")\n",
    "    i += 1\n",
    "    #increment counter\n",
    "\n",
    "print(\"\\n\\n\")\n",
    "# print out some white space"
   ]
  },
  {
   "cell_type": "markdown",
   "metadata": {},
   "source": [
    "And, now adding a BREAK, we can exit out of the loop early if we need to"
   ]
  },
  {
   "cell_type": "code",
   "execution_count": 11,
   "metadata": {},
   "outputs": [
    {
     "name": "stdout",
     "output_type": "stream",
     "text": [
      "cat found in the barn\n",
      "dog found in the barn\n",
      "elephant found in the barn\n",
      "\tThat's a big elephant! It won't fit in a barn...let's just stop (break) here.\n",
      "\n",
      "\n",
      "\n"
     ]
    }
   ],
   "source": [
    "# While loop with if, break\n",
    "barn = ['cat','dog','elephant','giraffe','pig']\n",
    "i=0\n",
    "# i is a counter that will help us iterate through the list\n",
    "# when i gets to the end of the list, the loop will stop\n",
    "while i < len(barn):\n",
    "    print(barn[i] + \" found in the barn\")\n",
    "    if len(barn[i]) > 3:\n",
    "        print(\"\\tThat's a big \"+barn[i]+\"! It won't fit in a barn...let's just stop (break) here.\")\n",
    "        break\n",
    "    i += 1\n",
    "    #increment counter\n",
    "\n",
    "\n",
    "\n",
    "\n",
    "print(\"\\n\\n\")\n",
    "# print out some white space"
   ]
  },
  {
   "cell_type": "code",
   "execution_count": null,
   "metadata": {},
   "outputs": [],
   "source": []
  }
 ],
 "metadata": {
  "kernelspec": {
   "display_name": "Python 3",
   "language": "python",
   "name": "python3"
  },
  "language_info": {
   "codemirror_mode": {
    "name": "ipython",
    "version": 3
   },
   "file_extension": ".py",
   "mimetype": "text/x-python",
   "name": "python",
   "nbconvert_exporter": "python",
   "pygments_lexer": "ipython3",
   "version": "3.7.1"
  }
 },
 "nbformat": 4,
 "nbformat_minor": 2
}

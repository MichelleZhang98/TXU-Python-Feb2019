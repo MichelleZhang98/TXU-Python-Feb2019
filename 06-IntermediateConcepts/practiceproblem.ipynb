{
 "cells": [
  {
   "cell_type": "markdown",
   "metadata": {
    "collapsed": true
   },
   "source": [
    "# Practice Problem\n",
    "Create a Function that will take in a string, and return a string that tells the user how many numers and letters were in the input string."
   ]
  },
  {
   "cell_type": "code",
   "execution_count": 1,
   "metadata": {},
   "outputs": [],
   "source": [
    "def countlettersandnumbers(userinput):\n",
    "    \"\"\"\n",
    "    This function counts up the letters and digits in the input string and return the count of each\n",
    "    \"\"\"\n",
    "\n"
   ]
  },
  {
   "cell_type": "code",
   "execution_count": 2,
   "metadata": {},
   "outputs": [
    {
     "name": "stdout",
     "output_type": "stream",
     "text": [
      "Help on function countlettersandnumbers in module __main__:\n",
      "\n",
      "countlettersandnumbers(userinput)\n",
      "    This function counts up the letters and digits in the input string and return the count of each\n",
      "\n"
     ]
    }
   ],
   "source": [
    "help(countlettersandnumbers)"
   ]
  },
  {
   "cell_type": "markdown",
   "metadata": {},
   "source": [
    "## Solution"
   ]
  },
  {
   "cell_type": "code",
   "execution_count": 91,
   "metadata": {
    "collapsed": true
   },
   "outputs": [],
   "source": [
    "def countlettersandnumbers(userinput):\n",
    "    \"\"\"\n",
    "    This function will count up the letters and digits in the input string and return the count of each\n",
    "    \"\"\"\n",
    "    #code goes here\n",
    "    \n",
    "    return numberofletters,numberofnumbers\n"
   ]
  },
  {
   "cell_type": "markdown",
   "metadata": {},
   "source": [
    "## Test It Out"
   ]
  },
  {
   "cell_type": "code",
   "execution_count": 111,
   "metadata": {},
   "outputs": [
    {
     "name": "stdout",
     "output_type": "stream",
     "text": [
      "enter something: asdf123\n",
      "LETTERS: 3\n",
      "NUMBERS: 4\n"
     ]
    }
   ],
   "source": [
    "userentry = input(\"enter something: \")\n",
    "numbers,letters = countlettersandnumbers(userentry)\n",
    "print(\"LETTERS: {}\\nNUMBERS: {}\".format(letters,numbers))"
   ]
  }
 ],
 "metadata": {
  "kernelspec": {
   "display_name": "Python 3",
   "language": "python",
   "name": "python3"
  },
  "language_info": {
   "codemirror_mode": {
    "name": "ipython",
    "version": 3
   },
   "file_extension": ".py",
   "mimetype": "text/x-python",
   "name": "python",
   "nbconvert_exporter": "python",
   "pygments_lexer": "ipython3",
   "version": "3.7.1"
  }
 },
 "nbformat": 4,
 "nbformat_minor": 2
}
